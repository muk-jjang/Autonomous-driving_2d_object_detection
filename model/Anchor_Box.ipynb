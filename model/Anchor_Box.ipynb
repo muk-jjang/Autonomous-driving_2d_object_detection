{
  "nbformat": 4,
  "nbformat_minor": 0,
  "metadata": {
    "colab": {
      "provenance": []
    },
    "kernelspec": {
      "name": "python3",
      "display_name": "Python 3"
    },
    "language_info": {
      "name": "python"
    }
  },
  "cells": [
    {
      "cell_type": "code",
      "source": [
        "from google.colab import drive\n",
        "drive.mount('/content/drive')"
      ],
      "metadata": {
        "colab": {
          "base_uri": "https://localhost:8080/"
        },
        "id": "2K1-DrKFBUvw",
        "outputId": "473176bd-37a3-4fe6-c869-7a4e619d6596"
      },
      "execution_count": 1,
      "outputs": [
        {
          "output_type": "stream",
          "name": "stdout",
          "text": [
            "Mounted at /content/drive\n"
          ]
        }
      ]
    },
    {
      "cell_type": "code",
      "source": [
        "import json\n",
        "import numpy as np\n",
        "from sklearn.cluster import KMeans\n",
        "\n",
        "# 파일 경로 설정\n",
        "file_path = 'drive/MyDrive/ai_project/train/train.json'\n",
        "\n",
        "# JSON 데이터 로드\n",
        "with open(file_path, 'r') as file:\n",
        "    data = json.load(file)\n",
        "\n",
        "# 바운딩 박스 크기 추출\n",
        "bounding_boxes = [annotation[\"annotations_info\"][2:4] for item in data for annotation in item[\"annotations\"]]\n",
        "\n",
        "# 바운딩 박스 데이터를 NumPy 배열로 변환\n",
        "bbox_data = np.array(bounding_boxes)\n",
        "\n",
        "# 각 K값에 대해 K-평균 클러스터링 실행 및 결과 저장\n",
        "for k in range(2, 11):\n",
        "    kmeans = KMeans(n_clusters=k, random_state=42)\n",
        "    kmeans.fit(bbox_data)\n",
        "    print(f\"K={k}: Anchor Boxes: {kmeans.cluster_centers_}\")\n"
      ],
      "metadata": {
        "colab": {
          "base_uri": "https://localhost:8080/"
        },
        "id": "S2d8ADxzBVxO",
        "outputId": "016c4a24-f8c2-401f-bb47-2c5ab27aa181"
      },
      "execution_count": 2,
      "outputs": [
        {
          "output_type": "stream",
          "name": "stderr",
          "text": [
            "/usr/local/lib/python3.10/dist-packages/sklearn/cluster/_kmeans.py:870: FutureWarning: The default value of `n_init` will change from 10 to 'auto' in 1.4. Set the value of `n_init` explicitly to suppress the warning\n",
            "  warnings.warn(\n"
          ]
        },
        {
          "output_type": "stream",
          "name": "stdout",
          "text": [
            "K=2: Anchor Boxes: [[ 73.43760104  72.24579019]\n",
            " [458.41318217 243.24036223]]\n"
          ]
        },
        {
          "output_type": "stream",
          "name": "stderr",
          "text": [
            "/usr/local/lib/python3.10/dist-packages/sklearn/cluster/_kmeans.py:870: FutureWarning: The default value of `n_init` will change from 10 to 'auto' in 1.4. Set the value of `n_init` explicitly to suppress the warning\n",
            "  warnings.warn(\n"
          ]
        },
        {
          "output_type": "stream",
          "name": "stdout",
          "text": [
            "K=3: Anchor Boxes: [[ 49.92694991  61.70257757]\n",
            " [527.69187598 279.19959658]\n",
            " [193.48604064 124.77393546]]\n"
          ]
        },
        {
          "output_type": "stream",
          "name": "stderr",
          "text": [
            "/usr/local/lib/python3.10/dist-packages/sklearn/cluster/_kmeans.py:870: FutureWarning: The default value of `n_init` will change from 10 to 'auto' in 1.4. Set the value of `n_init` explicitly to suppress the warning\n",
            "  warnings.warn(\n"
          ]
        },
        {
          "output_type": "stream",
          "name": "stdout",
          "text": [
            "K=4: Anchor Boxes: [[ 49.64454637  56.57188805]\n",
            " [530.31771028 281.29222589]\n",
            " [212.29569613 101.72825893]\n",
            " [ 85.31820883 191.65262299]]\n"
          ]
        },
        {
          "output_type": "stream",
          "name": "stderr",
          "text": [
            "/usr/local/lib/python3.10/dist-packages/sklearn/cluster/_kmeans.py:870: FutureWarning: The default value of `n_init` will change from 10 to 'auto' in 1.4. Set the value of `n_init` explicitly to suppress the warning\n",
            "  warnings.warn(\n"
          ]
        },
        {
          "output_type": "stream",
          "name": "stdout",
          "text": [
            "K=5: Anchor Boxes: [[ 83.1534438  190.15126238]\n",
            " [394.9256492  199.73248273]\n",
            " [196.16203468  93.85137849]\n",
            " [ 48.94265228  56.13327905]\n",
            " [614.61086213 343.42738661]]\n"
          ]
        },
        {
          "output_type": "stream",
          "name": "stderr",
          "text": [
            "/usr/local/lib/python3.10/dist-packages/sklearn/cluster/_kmeans.py:870: FutureWarning: The default value of `n_init` will change from 10 to 'auto' in 1.4. Set the value of `n_init` explicitly to suppress the warning\n",
            "  warnings.warn(\n"
          ]
        },
        {
          "output_type": "stream",
          "name": "stdout",
          "text": [
            "K=6: Anchor Boxes: [[ 38.40679712  45.30722019]\n",
            " [203.56499912  94.87760601]\n",
            " [ 99.23658049 221.70316788]\n",
            " [616.76355083 344.28196895]\n",
            " [400.5812967  201.56984376]\n",
            " [ 73.68211195  86.7702837 ]]\n"
          ]
        },
        {
          "output_type": "stream",
          "name": "stderr",
          "text": [
            "/usr/local/lib/python3.10/dist-packages/sklearn/cluster/_kmeans.py:870: FutureWarning: The default value of `n_init` will change from 10 to 'auto' in 1.4. Set the value of `n_init` explicitly to suppress the warning\n",
            "  warnings.warn(\n"
          ]
        },
        {
          "output_type": "stream",
          "name": "stdout",
          "text": [
            "K=7: Anchor Boxes: [[618.31585809 345.51390909]\n",
            " [ 41.22138107  88.96247279]\n",
            " [411.84209125 206.85170808]\n",
            " [118.49852738  76.45309228]\n",
            " [ 42.47086168  37.70729061]\n",
            " [100.23047062 222.83636153]\n",
            " [228.07742619 101.69709504]]\n"
          ]
        },
        {
          "output_type": "stream",
          "name": "stderr",
          "text": [
            "/usr/local/lib/python3.10/dist-packages/sklearn/cluster/_kmeans.py:870: FutureWarning: The default value of `n_init` will change from 10 to 'auto' in 1.4. Set the value of `n_init` explicitly to suppress the warning\n",
            "  warnings.warn(\n"
          ]
        },
        {
          "output_type": "stream",
          "name": "stdout",
          "text": [
            "K=8: Anchor Boxes: [[ 41.87952571  86.8899976 ]\n",
            " [582.38843288 324.1211926 ]\n",
            " [118.85795147  76.50927209]\n",
            " [ 99.39486506 221.58849579]\n",
            " [398.88609454 196.18439645]\n",
            " [917.89016039 564.23031636]\n",
            " [ 42.11962224  36.49864948]\n",
            " [226.95950744 100.92924485]]\n"
          ]
        },
        {
          "output_type": "stream",
          "name": "stderr",
          "text": [
            "/usr/local/lib/python3.10/dist-packages/sklearn/cluster/_kmeans.py:870: FutureWarning: The default value of `n_init` will change from 10 to 'auto' in 1.4. Set the value of `n_init` explicitly to suppress the warning\n",
            "  warnings.warn(\n"
          ]
        },
        {
          "output_type": "stream",
          "name": "stdout",
          "text": [
            "K=9: Anchor Boxes: [[101.89491232 226.92972643]\n",
            " [ 35.97683298  34.76919401]\n",
            " [583.33198114 325.4052747 ]\n",
            " [154.0229115   88.05815303]\n",
            " [405.52848134 198.75960514]\n",
            " [ 35.67038646  95.15483928]\n",
            " [241.44771277 105.11244138]\n",
            " [917.89016039 564.23031636]\n",
            " [ 77.77984079  62.85347166]]\n"
          ]
        },
        {
          "output_type": "stream",
          "name": "stderr",
          "text": [
            "/usr/local/lib/python3.10/dist-packages/sklearn/cluster/_kmeans.py:870: FutureWarning: The default value of `n_init` will change from 10 to 'auto' in 1.4. Set the value of `n_init` explicitly to suppress the warning\n",
            "  warnings.warn(\n"
          ]
        },
        {
          "output_type": "stream",
          "name": "stdout",
          "text": [
            "K=10: Anchor Boxes: [[ 55.61553605 143.86105172]\n",
            " [528.94937146 362.91588869]\n",
            " [ 40.74381776  33.40367749]\n",
            " [395.39640067 189.49966198]\n",
            " [223.71165467  99.64297008]\n",
            " [118.63033818 249.78529374]\n",
            " [931.60560731 576.87543863]\n",
            " [662.87950063 251.75026171]\n",
            " [ 41.87527618  74.66606595]\n",
            " [116.4819371   75.10111474]]\n"
          ]
        }
      ]
    },
    {
      "cell_type": "code",
      "source": [
        "import matplotlib.pyplot as plt\n",
        "\n",
        "# SSE 값 저장을 위한 리스트\n",
        "sse = []\n",
        "\n",
        "# 각 K값에 대해 K-평균 클러스터링 실행 및 SSE 계산\n",
        "for k in range(2, 11):\n",
        "    kmeans = KMeans(n_clusters=k, random_state=42)\n",
        "    kmeans.fit(bbox_data)\n",
        "    sse.append(kmeans.inertia_)\n",
        "\n",
        "# 엘보우 플롯 생성\n",
        "plt.plot(range(2, 11), sse, marker='o')\n",
        "plt.xlabel('Number of clusters')\n",
        "plt.ylabel('SSE')\n",
        "plt.title('Elbow Method For Optimal k')\n",
        "plt.show()\n"
      ],
      "metadata": {
        "colab": {
          "base_uri": "https://localhost:8080/",
          "height": 819
        },
        "id": "zLm6s37ZCGTV",
        "outputId": "ed7387e3-f27c-41fd-8ce5-1f2e82addaae"
      },
      "execution_count": 4,
      "outputs": [
        {
          "output_type": "stream",
          "name": "stderr",
          "text": [
            "/usr/local/lib/python3.10/dist-packages/sklearn/cluster/_kmeans.py:870: FutureWarning: The default value of `n_init` will change from 10 to 'auto' in 1.4. Set the value of `n_init` explicitly to suppress the warning\n",
            "  warnings.warn(\n",
            "/usr/local/lib/python3.10/dist-packages/sklearn/cluster/_kmeans.py:870: FutureWarning: The default value of `n_init` will change from 10 to 'auto' in 1.4. Set the value of `n_init` explicitly to suppress the warning\n",
            "  warnings.warn(\n",
            "/usr/local/lib/python3.10/dist-packages/sklearn/cluster/_kmeans.py:870: FutureWarning: The default value of `n_init` will change from 10 to 'auto' in 1.4. Set the value of `n_init` explicitly to suppress the warning\n",
            "  warnings.warn(\n",
            "/usr/local/lib/python3.10/dist-packages/sklearn/cluster/_kmeans.py:870: FutureWarning: The default value of `n_init` will change from 10 to 'auto' in 1.4. Set the value of `n_init` explicitly to suppress the warning\n",
            "  warnings.warn(\n",
            "/usr/local/lib/python3.10/dist-packages/sklearn/cluster/_kmeans.py:870: FutureWarning: The default value of `n_init` will change from 10 to 'auto' in 1.4. Set the value of `n_init` explicitly to suppress the warning\n",
            "  warnings.warn(\n",
            "/usr/local/lib/python3.10/dist-packages/sklearn/cluster/_kmeans.py:870: FutureWarning: The default value of `n_init` will change from 10 to 'auto' in 1.4. Set the value of `n_init` explicitly to suppress the warning\n",
            "  warnings.warn(\n",
            "/usr/local/lib/python3.10/dist-packages/sklearn/cluster/_kmeans.py:870: FutureWarning: The default value of `n_init` will change from 10 to 'auto' in 1.4. Set the value of `n_init` explicitly to suppress the warning\n",
            "  warnings.warn(\n",
            "/usr/local/lib/python3.10/dist-packages/sklearn/cluster/_kmeans.py:870: FutureWarning: The default value of `n_init` will change from 10 to 'auto' in 1.4. Set the value of `n_init` explicitly to suppress the warning\n",
            "  warnings.warn(\n",
            "/usr/local/lib/python3.10/dist-packages/sklearn/cluster/_kmeans.py:870: FutureWarning: The default value of `n_init` will change from 10 to 'auto' in 1.4. Set the value of `n_init` explicitly to suppress the warning\n",
            "  warnings.warn(\n"
          ]
        },
        {
          "output_type": "display_data",
          "data": {
            "text/plain": [
              "<Figure size 640x480 with 1 Axes>"
            ],
            "image/png": "[encoded data removed]"
          },
          "metadata": {}
        }
      ]
    },
    {
      "cell_type": "code",
      "source": [
        "# k = 4로 설정\n",
        "# 크기 구분 없는 앵커 박스 크기\n",
        "'''[[ 49.64454637  56.57188805]\n",
        " [530.31771028 281.29222589]\n",
        " [212.29569613 101.72825893]\n",
        " [ 85.31820883 191.65262299]]'''"
      ],
      "metadata": {
        "id": "4Dj7AtsiDTMp"
      },
      "execution_count": null,
      "outputs": []
    },
    {
      "cell_type": "code",
      "source": [
        "import json\n",
        "import numpy as np\n",
        "import matplotlib.pyplot as plt\n",
        "\n",
        "# JSON 데이터 로드\n",
        "with open('drive/MyDrive/ai_project/train/train.json', 'r') as file:\n",
        "    data = json.load(file)\n",
        "\n",
        "# 바운딩 박스 크기 추출\n",
        "bounding_boxes = [annotation[\"annotations_info\"][2:4] for item in data for annotation in item[\"annotations\"]]\n",
        "\n",
        "# 바운딩 박스 데이터를 NumPy 배열로 변환\n",
        "bbox_data = np.array(bounding_boxes)\n",
        "\n",
        "# 너비와 높이 데이터\n",
        "widths = bbox_data[:, 0]\n",
        "heights = bbox_data[:, 1]\n",
        "\n",
        "# 너비와 높이의 통계적 분석\n",
        "width_stats = {'min': np.min(widths), 'max': np.max(widths), 'mean': np.mean(widths),\n",
        "               'median': np.median(widths), 'std': np.std(widths)}\n",
        "height_stats = {'min': np.min(heights), 'max': np.max(heights), 'mean': np.mean(heights),\n",
        "                'median': np.median(heights), 'std': np.std(heights)}\n",
        "\n",
        "# 너비와 높이의 히스토그램을 통한 분포 시각화\n",
        "plt.figure(figsize=(14, 6))\n",
        "\n",
        "plt.subplot(1, 2, 1)\n",
        "plt.hist(widths, bins=30, color='orange', alpha=0.7)\n",
        "plt.title('Width Distribution')\n",
        "plt.xlabel('Width')\n",
        "plt.ylabel('Frequency')\n",
        "plt.axvline(width_stats['mean'], color='red', linestyle='dashed', linewidth=2, label='Mean')\n",
        "plt.axvline(width_stats['median'], color='blue', linestyle='dashed', linewidth=2, label='Median')\n",
        "plt.legend()\n",
        "\n",
        "plt.subplot(1, 2, 2)\n",
        "plt.hist(heights, bins=30, color='green', alpha=0.7)\n",
        "plt.title('Height Distribution')\n",
        "plt.xlabel('Height')\n",
        "plt.ylabel('Frequency')\n",
        "plt.axvline(height_stats['mean'], color='red', linestyle='dashed', linewidth=2, label='Mean')\n",
        "plt.axvline(height_stats['median'], color='blue', linestyle='dashed', linewidth=2, label='Median')\n",
        "plt.legend()\n",
        "\n",
        "plt.tight_layout()\n",
        "plt.show()\n",
        "\n",
        "width_stats, height_stats\n"
      ],
      "metadata": {
        "colab": {
          "base_uri": "https://localhost:8080/",
          "height": 671
        },
        "id": "6dI98YdqI4VW",
        "outputId": "66f6e313-8a1b-4224-86e6-e6756901b7a4"
      },
      "execution_count": 8,
      "outputs": [
        {
          "output_type": "display_data",
          "data": {
            "text/plain": [
              "<Figure size 1400x600 with 2 Axes>"
            ],
            "image/png": "[encoded data removed]"
          },
          "metadata": {}
        },
        {
          "output_type": "execute_result",
          "data": {
            "text/plain": [
              "({'min': 5.0,\n",
              "  'max': 1542.3213222339139,\n",
              "  'mean': 98.46628083901015,\n",
              "  'median': 56.26831054687499,\n",
              "  'std': 116.82964496701317},\n",
              " {'min': 5.0,\n",
              "  'max': 751.4315414288793,\n",
              "  'mean': 83.36277683131304,\n",
              "  'median': 67.5850830078125,\n",
              "  'std': 67.85115968956214})"
            ]
          },
          "metadata": {},
          "execution_count": 8
        }
      ]
    },
    {
      "cell_type": "code",
      "source": [
        "# 너비에 대한 threshold\n",
        "width_median = 56.26831054687499\n",
        "width_mean = 98.46628083901015\n",
        "\n",
        "# 높이에 대한 threshold\n",
        "height_median = 67.5850830078125\n",
        "height_mean = 83.36277683131304\n",
        "\n",
        "# 너비에 대한 small과 medium의 분할 기준\n",
        "threshold_width_small_medium = (width_median + width_mean) / 2\n",
        "\n",
        "# 높이에 대한 small과 medium의 분할 기준\n",
        "threshold_height_small_medium = (height_median + height_mean) / 2\n",
        "\n",
        "# 너비에 대한 medium과 large의 분할 기준\n",
        "threshold_width_medium_large = (width_mean + np.max(widths)) / 2\n",
        "\n",
        "# 높이에 대한 medium과 large의 분할 기준\n",
        "threshold_height_medium_large = (height_mean + np.max(heights)) / 2\n",
        "\n",
        "# 결과 출력\n",
        "print(f\"Threshold between small and medium (width): {threshold_width_small_medium}\")\n",
        "print(f\"Threshold between small and medium (height): {threshold_height_small_medium}\")\n",
        "print(f\"Threshold between medium and large (width): {threshold_width_medium_large}\")\n",
        "print(f\"Threshold between medium and large (height): {threshold_height_medium_large}\")\n"
      ],
      "metadata": {
        "colab": {
          "base_uri": "https://localhost:8080/"
        },
        "id": "GhtutO49KJND",
        "outputId": "77a2070d-95e0-421d-83dc-16a25fac83b7"
      },
      "execution_count": 9,
      "outputs": [
        {
          "output_type": "stream",
          "name": "stdout",
          "text": [
            "Threshold between small and medium (width): 77.36729569294258\n",
            "Threshold between small and medium (height): 75.47392991956278\n",
            "Threshold between medium and large (width): 820.393801536462\n",
            "Threshold between medium and large (height): 417.39715913009616\n"
          ]
        }
      ]
    },
    {
      "cell_type": "code",
      "source": [
        "small_boxes = bbox_data[(widths <= threshold_width_small_medium) & (heights <= threshold_height_small_medium)]\n",
        "medium_boxes = bbox_data[\n",
        "    ((widths > threshold_width_small_medium) | (heights > threshold_height_small_medium)) &\n",
        "    ((widths <= threshold_width_medium_large) & (heights <= threshold_height_medium_large))\n",
        "]\n",
        "large_boxes = bbox_data[(widths > threshold_width_medium_large) | (heights > threshold_height_medium_large)]\n",
        "\n",
        "# Check if any category is empty and handle it before running KMeans\n",
        "for category, boxes in [('small', small_boxes), ('medium', medium_boxes), ('large', large_boxes)]:\n",
        "    if boxes.size == 0:\n",
        "        print(f\"No bounding boxes found for the {category} category. Please adjust the thresholds.\")\n",
        "    else:\n",
        "        # Perform KMeans clustering for each non-empty category\n",
        "        kmeans = KMeans(n_clusters=4, random_state=42).fit(boxes)\n",
        "        print(f\"{category.capitalize()} Anchor Boxes: {kmeans.cluster_centers_}\")"
      ],
      "metadata": {
        "colab": {
          "base_uri": "https://localhost:8080/"
        },
        "id": "h3miCyWyK1PS",
        "outputId": "06a91ed5-5f01-4324-e5e6-c75fa99bc85e"
      },
      "execution_count": 10,
      "outputs": [
        {
          "output_type": "stream",
          "name": "stderr",
          "text": [
            "/usr/local/lib/python3.10/dist-packages/sklearn/cluster/_kmeans.py:870: FutureWarning: The default value of `n_init` will change from 10 to 'auto' in 1.4. Set the value of `n_init` explicitly to suppress the warning\n",
            "  warnings.warn(\n"
          ]
        },
        {
          "output_type": "stream",
          "name": "stdout",
          "text": [
            "Small Anchor Boxes: [[27.0295785  26.91719891]\n",
            " [60.95720825 60.77357621]\n",
            " [27.15632465 63.73787229]\n",
            " [53.41265705 35.80688386]]\n"
          ]
        },
        {
          "output_type": "stream",
          "name": "stderr",
          "text": [
            "/usr/local/lib/python3.10/dist-packages/sklearn/cluster/_kmeans.py:870: FutureWarning: The default value of `n_init` will change from 10 to 'auto' in 1.4. Set the value of `n_init` explicitly to suppress the warning\n",
            "  warnings.warn(\n"
          ]
        },
        {
          "output_type": "stream",
          "name": "stdout",
          "text": [
            "Medium Anchor Boxes: [[211.70553925  99.16859833]\n",
            " [ 67.40652704  87.65282221]\n",
            " [497.83797218 249.12354564]\n",
            " [100.79596604 221.54440004]]\n"
          ]
        },
        {
          "output_type": "stream",
          "name": "stderr",
          "text": [
            "/usr/local/lib/python3.10/dist-packages/sklearn/cluster/_kmeans.py:870: FutureWarning: The default value of `n_init` will change from 10 to 'auto' in 1.4. Set the value of `n_init` explicitly to suppress the warning\n",
            "  warnings.warn(\n"
          ]
        },
        {
          "output_type": "stream",
          "name": "stdout",
          "text": [
            "Large Anchor Boxes: [[ 564.44708258  450.86711797]\n",
            " [1037.72023895  418.36846325]\n",
            " [ 245.58823636  489.4929177 ]\n",
            " [ 811.80581372  643.06213532]]\n"
          ]
        }
      ]
    },
    {
      "cell_type": "code",
      "source": [],
      "metadata": {
        "id": "AA1uY8aqLubV"
      },
      "execution_count": null,
      "outputs": []
    }
  ]
}